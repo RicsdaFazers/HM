{
 "cells": [
  {
   "cell_type": "code",
   "execution_count": 2,
   "id": "43bb6fff",
   "metadata": {},
   "outputs": [
    {
     "name": "stdout",
     "output_type": "stream",
     "text": [
      "Collecting pandas-profiling\n",
      "  Downloading pandas_profiling-3.4.0-py2.py3-none-any.whl (315 kB)\n",
      "Collecting multimethod<1.10,>=1.4\n",
      "  Downloading multimethod-1.9-py3-none-any.whl (10 kB)\n",
      "Collecting pydantic<1.11,>=1.8.1\n",
      "  Downloading pydantic-1.10.2-cp39-cp39-win_amd64.whl (2.1 MB)\n",
      "Requirement already satisfied: matplotlib<3.6,>=3.2 in c:\\users\\ricar\\anaconda3\\lib\\site-packages (from pandas-profiling) (3.5.1)\n",
      "Collecting visions[type_image_path]==0.7.5\n",
      "  Downloading visions-0.7.5-py3-none-any.whl (102 kB)\n",
      "Collecting phik<0.13,>=0.11.1\n",
      "  Downloading phik-0.12.2-cp39-cp39-win_amd64.whl (685 kB)\n",
      "Requirement already satisfied: seaborn<0.13,>=0.10.1 in c:\\users\\ricar\\anaconda3\\lib\\site-packages (from pandas-profiling) (0.11.2)\n",
      "Requirement already satisfied: jinja2<3.2,>=2.11.1 in c:\\users\\ricar\\anaconda3\\lib\\site-packages (from pandas-profiling) (2.11.3)\n",
      "Requirement already satisfied: scipy<1.10,>=1.4.1 in c:\\users\\ricar\\anaconda3\\lib\\site-packages (from pandas-profiling) (1.7.3)\n",
      "Requirement already satisfied: statsmodels<0.14,>=0.13.2 in c:\\users\\ricar\\anaconda3\\lib\\site-packages (from pandas-profiling) (0.13.2)\n",
      "Requirement already satisfied: pandas!=1.4.0,<1.6,>1.1 in c:\\users\\ricar\\anaconda3\\lib\\site-packages (from pandas-profiling) (1.4.2)\n",
      "Collecting missingno<0.6,>=0.4.2\n",
      "  Downloading missingno-0.5.1-py3-none-any.whl (8.7 kB)\n",
      "Collecting htmlmin==0.1.12\n",
      "  Downloading htmlmin-0.1.12.tar.gz (19 kB)\n",
      "Requirement already satisfied: requests<2.29,>=2.24.0 in c:\\users\\ricar\\anaconda3\\lib\\site-packages (from pandas-profiling) (2.27.1)\n",
      "Requirement already satisfied: numpy<1.24,>=1.16.0 in c:\\users\\ricar\\anaconda3\\lib\\site-packages (from pandas-profiling) (1.21.5)\n",
      "Requirement already satisfied: tqdm<4.65,>=4.48.2 in c:\\users\\ricar\\anaconda3\\lib\\site-packages (from pandas-profiling) (4.64.0)\n",
      "Requirement already satisfied: PyYAML<6.1,>=5.0.0 in c:\\users\\ricar\\anaconda3\\lib\\site-packages (from pandas-profiling) (6.0)\n",
      "Requirement already satisfied: networkx>=2.4 in c:\\users\\ricar\\anaconda3\\lib\\site-packages (from visions[type_image_path]==0.7.5->pandas-profiling) (2.7.1)\n",
      "Requirement already satisfied: attrs>=19.3.0 in c:\\users\\ricar\\anaconda3\\lib\\site-packages (from visions[type_image_path]==0.7.5->pandas-profiling) (21.4.0)\n",
      "Collecting tangled-up-in-unicode>=0.0.4\n",
      "  Downloading tangled_up_in_unicode-0.2.0-py3-none-any.whl (4.7 MB)\n",
      "Collecting imagehash\n",
      "  Downloading ImageHash-4.3.1-py2.py3-none-any.whl (296 kB)\n",
      "Requirement already satisfied: Pillow in c:\\users\\ricar\\anaconda3\\lib\\site-packages (from visions[type_image_path]==0.7.5->pandas-profiling) (9.0.1)\n",
      "Requirement already satisfied: MarkupSafe>=0.23 in c:\\users\\ricar\\anaconda3\\lib\\site-packages (from jinja2<3.2,>=2.11.1->pandas-profiling) (2.0.1)\n",
      "Requirement already satisfied: cycler>=0.10 in c:\\users\\ricar\\anaconda3\\lib\\site-packages (from matplotlib<3.6,>=3.2->pandas-profiling) (0.11.0)\n",
      "Requirement already satisfied: python-dateutil>=2.7 in c:\\users\\ricar\\anaconda3\\lib\\site-packages (from matplotlib<3.6,>=3.2->pandas-profiling) (2.8.2)\n",
      "Requirement already satisfied: pyparsing>=2.2.1 in c:\\users\\ricar\\anaconda3\\lib\\site-packages (from matplotlib<3.6,>=3.2->pandas-profiling) (3.0.4)\n",
      "Requirement already satisfied: fonttools>=4.22.0 in c:\\users\\ricar\\anaconda3\\lib\\site-packages (from matplotlib<3.6,>=3.2->pandas-profiling) (4.25.0)\n",
      "Requirement already satisfied: packaging>=20.0 in c:\\users\\ricar\\anaconda3\\lib\\site-packages (from matplotlib<3.6,>=3.2->pandas-profiling) (21.3)\n",
      "Requirement already satisfied: kiwisolver>=1.0.1 in c:\\users\\ricar\\anaconda3\\lib\\site-packages (from matplotlib<3.6,>=3.2->pandas-profiling) (1.3.2)\n",
      "Requirement already satisfied: pytz>=2020.1 in c:\\users\\ricar\\anaconda3\\lib\\site-packages (from pandas!=1.4.0,<1.6,>1.1->pandas-profiling) (2021.3)\n",
      "Requirement already satisfied: joblib>=0.14.1 in c:\\users\\ricar\\anaconda3\\lib\\site-packages (from phik<0.13,>=0.11.1->pandas-profiling) (1.1.0)\n",
      "Requirement already satisfied: typing-extensions>=4.1.0 in c:\\users\\ricar\\anaconda3\\lib\\site-packages (from pydantic<1.11,>=1.8.1->pandas-profiling) (4.1.1)\n",
      "Requirement already satisfied: six>=1.5 in c:\\users\\ricar\\anaconda3\\lib\\site-packages (from python-dateutil>=2.7->matplotlib<3.6,>=3.2->pandas-profiling) (1.16.0)\n",
      "Requirement already satisfied: charset-normalizer~=2.0.0 in c:\\users\\ricar\\anaconda3\\lib\\site-packages (from requests<2.29,>=2.24.0->pandas-profiling) (2.0.4)\n",
      "Requirement already satisfied: urllib3<1.27,>=1.21.1 in c:\\users\\ricar\\anaconda3\\lib\\site-packages (from requests<2.29,>=2.24.0->pandas-profiling) (1.26.9)\n",
      "Requirement already satisfied: certifi>=2017.4.17 in c:\\users\\ricar\\anaconda3\\lib\\site-packages (from requests<2.29,>=2.24.0->pandas-profiling) (2021.10.8)\n",
      "Requirement already satisfied: idna<4,>=2.5 in c:\\users\\ricar\\anaconda3\\lib\\site-packages (from requests<2.29,>=2.24.0->pandas-profiling) (3.3)\n",
      "Requirement already satisfied: patsy>=0.5.2 in c:\\users\\ricar\\anaconda3\\lib\\site-packages (from statsmodels<0.14,>=0.13.2->pandas-profiling) (0.5.2)\n",
      "Requirement already satisfied: colorama in c:\\users\\ricar\\anaconda3\\lib\\site-packages (from tqdm<4.65,>=4.48.2->pandas-profiling) (0.4.4)\n",
      "Requirement already satisfied: PyWavelets in c:\\users\\ricar\\anaconda3\\lib\\site-packages (from imagehash->visions[type_image_path]==0.7.5->pandas-profiling) (1.3.0)\n",
      "Building wheels for collected packages: htmlmin\n",
      "  Building wheel for htmlmin (setup.py): started\n",
      "  Building wheel for htmlmin (setup.py): finished with status 'done'\n",
      "  Created wheel for htmlmin: filename=htmlmin-0.1.12-py3-none-any.whl size=27096 sha256=726b3eb6de83568ca8ebee0e1e3d602c8e142ffdd84cc3816bf50c4572057870\n",
      "  Stored in directory: c:\\users\\ricar\\appdata\\local\\pip\\cache\\wheels\\1d\\05\\04\\c6d7d3b66539d9e659ac6dfe81e2d0fd4c1a8316cc5a403300\n",
      "Successfully built htmlmin\n",
      "Installing collected packages: tangled-up-in-unicode, multimethod, visions, imagehash, pydantic, phik, missingno, htmlmin, pandas-profiling\n",
      "Successfully installed htmlmin-0.1.12 imagehash-4.3.1 missingno-0.5.1 multimethod-1.9 pandas-profiling-3.4.0 phik-0.12.2 pydantic-1.10.2 tangled-up-in-unicode-0.2.0 visions-0.7.5\n",
      "Note: you may need to restart the kernel to use updated packages.\n"
     ]
    }
   ],
   "source": [
    "pip install pandas-profiling"
   ]
  },
  {
   "cell_type": "code",
   "execution_count": 3,
   "id": "45189ee7",
   "metadata": {},
   "outputs": [
    {
     "name": "stderr",
     "output_type": "stream",
     "text": [
      "Enabling notebook extension jupyter-js-widgets/extension...\n",
      "      - Validating: ok\n"
     ]
    }
   ],
   "source": [
    "!jupyter nbextension enable --py widgetsnbextension"
   ]
  },
  {
   "cell_type": "code",
   "execution_count": 1,
   "id": "077d1e47",
   "metadata": {},
   "outputs": [],
   "source": [
    "import pandas as pd\n",
    "from pandas_profiling import ProfileReport"
   ]
  },
  {
   "cell_type": "code",
   "execution_count": 2,
   "id": "f948f46f",
   "metadata": {},
   "outputs": [],
   "source": [
    "df = pd.read_csv(\"customers.csv\")"
   ]
  },
  {
   "cell_type": "code",
   "execution_count": 3,
   "id": "9b5689b5",
   "metadata": {},
   "outputs": [],
   "source": [
    "profile = ProfileReport(df, title = \"Customers EDA\")"
   ]
  },
  {
   "cell_type": "code",
   "execution_count": 4,
   "id": "d177d175",
   "metadata": {},
   "outputs": [
    {
     "data": {
      "application/vnd.jupyter.widget-view+json": {
       "model_id": "f5d38aa2240a45da9c90d9d5bce28357",
       "version_major": 2,
       "version_minor": 0
      },
      "text/plain": [
       "Summarize dataset:   0%|          | 0/5 [00:00<?, ?it/s]"
      ]
     },
     "metadata": {},
     "output_type": "display_data"
    },
    {
     "data": {
      "application/vnd.jupyter.widget-view+json": {
       "model_id": "cace9c7b7a6e4ac49cd817cbdf074e03",
       "version_major": 2,
       "version_minor": 0
      },
      "text/plain": [
       "Generate report structure:   0%|          | 0/1 [00:00<?, ?it/s]"
      ]
     },
     "metadata": {},
     "output_type": "display_data"
    },
    {
     "data": {
      "application/vnd.jupyter.widget-view+json": {
       "model_id": "ddcb177716944dbca9f6c86d7b7d34c1",
       "version_major": 2,
       "version_minor": 0
      },
      "text/plain": [
       "Render HTML:   0%|          | 0/1 [00:00<?, ?it/s]"
      ]
     },
     "metadata": {},
     "output_type": "display_data"
    },
    {
     "data": {
      "application/vnd.jupyter.widget-view+json": {
       "model_id": "6ff442bd086f4486a8fa5e74f03047a2",
       "version_major": 2,
       "version_minor": 0
      },
      "text/plain": [
       "Export report to file:   0%|          | 0/1 [00:00<?, ?it/s]"
      ]
     },
     "metadata": {},
     "output_type": "display_data"
    }
   ],
   "source": [
    "profile.to_file(output_file = 'output_Customers.html')"
   ]
  },
  {
   "cell_type": "code",
   "execution_count": null,
   "id": "da4a7943",
   "metadata": {},
   "outputs": [],
   "source": []
  }
 ],
 "metadata": {
  "kernelspec": {
   "display_name": "Python 3 (ipykernel)",
   "language": "python",
   "name": "python3"
  },
  "language_info": {
   "codemirror_mode": {
    "name": "ipython",
    "version": 3
   },
   "file_extension": ".py",
   "mimetype": "text/x-python",
   "name": "python",
   "nbconvert_exporter": "python",
   "pygments_lexer": "ipython3",
   "version": "3.9.12"
  }
 },
 "nbformat": 4,
 "nbformat_minor": 5
}
