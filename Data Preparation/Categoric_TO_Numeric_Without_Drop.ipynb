{
 "cells": [
  {
   "cell_type": "code",
   "execution_count": 1,
   "id": "b69162d9",
   "metadata": {},
   "outputs": [],
   "source": [
    "import pandas as pd"
   ]
  },
  {
   "cell_type": "code",
   "execution_count": 2,
   "id": "c1dafe68",
   "metadata": {},
   "outputs": [],
   "source": [
    "data=pd.read_csv('Dataset_cleaned.csv')"
   ]
  },
  {
   "cell_type": "code",
   "execution_count": 3,
   "id": "d896aa17",
   "metadata": {},
   "outputs": [
    {
     "data": {
      "text/plain": [
       "customer_id                      object\n",
       "article_id                        int64\n",
       "price                           float64\n",
       "sales_channel_id                  int64\n",
       "sale                              int64\n",
       "product_code                      int64\n",
       "prod_name                        object\n",
       "product_type_no                   int64\n",
       "product_type_name                object\n",
       "product_group_name               object\n",
       "graphical_appearance_no           int64\n",
       "graphical_appearance_name        object\n",
       "colour_group_code                 int64\n",
       "colour_group_name                object\n",
       "perceived_colour_value_id         int64\n",
       "perceived_colour_value_name      object\n",
       "perceived_colour_master_id        int64\n",
       "perceived_colour_master_name     object\n",
       "department_no                     int64\n",
       "department_name                  object\n",
       "index_code                       object\n",
       "index_name                       object\n",
       "index_group_no                    int64\n",
       "index_group_name                 object\n",
       "section_no                        int64\n",
       "section_name                     object\n",
       "garment_group_no                  int64\n",
       "garment_group_name               object\n",
       "detail_desc                      object\n",
       "club_member_status               object\n",
       "fashion_news_frequency           object\n",
       "age                             float64\n",
       "postal_code                      object\n",
       "dtype: object"
      ]
     },
     "execution_count": 3,
     "metadata": {},
     "output_type": "execute_result"
    }
   ],
   "source": [
    "data.dtypes"
   ]
  },
  {
   "cell_type": "code",
   "execution_count": 4,
   "id": "17d78d3f",
   "metadata": {},
   "outputs": [],
   "source": [
    "#data.drop(columns=['prod_name','product_type_name','graphical_appearance_name','colour_group_name','perceived_colour_value_name','perceived_colour_master_name','department_name','index_group_name','section_name','garment_group_name'], inplace=True)"
   ]
  },
  {
   "cell_type": "code",
   "execution_count": 5,
   "id": "b63f10ba",
   "metadata": {},
   "outputs": [],
   "source": [
    "from sklearn.preprocessing import OrdinalEncoder\n",
    "\n",
    "ord_enc = OrdinalEncoder()\n",
    "\n",
    "data[\"change\"] = ord_enc.fit_transform(data[[\"customer_id\"]])\n",
    "data = data.drop(\"customer_id\", axis=1)\n",
    "data.rename(columns = {\"change\":\"customer_id\"}, inplace = True)"
   ]
  },
  {
   "cell_type": "code",
   "execution_count": 6,
   "id": "e26289ad",
   "metadata": {},
   "outputs": [],
   "source": [
    "data[\"change\"] = ord_enc.fit_transform(data[[\"prod_name\"]])\n",
    "data = data.drop(\"prod_name\", axis=1)\n",
    "data.rename(columns = {\"change\":\"prod_name\"}, inplace = True)"
   ]
  },
  {
   "cell_type": "code",
   "execution_count": 7,
   "id": "a3f38032",
   "metadata": {},
   "outputs": [],
   "source": [
    "data[\"change\"] = ord_enc.fit_transform(data[[\"product_type_name\"]])\n",
    "data = data.drop(\"product_type_name\", axis=1)\n",
    "data.rename(columns = {\"change\":\"product_type_name\"}, inplace = True)"
   ]
  },
  {
   "cell_type": "code",
   "execution_count": 8,
   "id": "72991732",
   "metadata": {},
   "outputs": [],
   "source": [
    "data[\"change\"] = ord_enc.fit_transform(data[[\"product_group_name\"]])\n",
    "data = data.drop(\"product_group_name\", axis=1)\n",
    "data.rename(columns = {\"change\":\"product_group_name\"}, inplace = True)"
   ]
  },
  {
   "cell_type": "code",
   "execution_count": 9,
   "id": "9c28e444",
   "metadata": {},
   "outputs": [],
   "source": [
    "data[\"change\"] = ord_enc.fit_transform(data[[\"graphical_appearance_name\"]])\n",
    "data = data.drop(\"graphical_appearance_name\", axis=1)\n",
    "data.rename(columns = {\"change\":\"graphical_appearance_name\"}, inplace = True)"
   ]
  },
  {
   "cell_type": "code",
   "execution_count": 10,
   "id": "e3a59436",
   "metadata": {},
   "outputs": [],
   "source": [
    "data[\"change\"] = ord_enc.fit_transform(data[[\"colour_group_name\"]])\n",
    "data = data.drop(\"colour_group_name\", axis=1)\n",
    "data.rename(columns = {\"change\":\"colour_group_name\"}, inplace = True)"
   ]
  },
  {
   "cell_type": "code",
   "execution_count": 11,
   "id": "69b72810",
   "metadata": {},
   "outputs": [],
   "source": [
    "data[\"change\"] = ord_enc.fit_transform(data[[\"perceived_colour_value_name\"]])\n",
    "data = data.drop(\"perceived_colour_value_name\", axis=1)\n",
    "data.rename(columns = {\"change\":\"perceived_colour_value_name\"}, inplace = True)"
   ]
  },
  {
   "cell_type": "code",
   "execution_count": 12,
   "id": "74214a76",
   "metadata": {},
   "outputs": [],
   "source": [
    "data[\"change\"] = ord_enc.fit_transform(data[[\"perceived_colour_master_name\"]])\n",
    "data = data.drop(\"perceived_colour_master_name\", axis=1)\n",
    "data.rename(columns = {\"change\":\"perceived_colour_master_name\"}, inplace = True)"
   ]
  },
  {
   "cell_type": "code",
   "execution_count": 13,
   "id": "90fada6f",
   "metadata": {},
   "outputs": [],
   "source": [
    "data[\"change\"] = ord_enc.fit_transform(data[[\"department_name\"]])\n",
    "data = data.drop(\"department_name\", axis=1)\n",
    "data.rename(columns = {\"change\":\"department_name\"}, inplace = True)"
   ]
  },
  {
   "cell_type": "code",
   "execution_count": 14,
   "id": "d6502451",
   "metadata": {},
   "outputs": [],
   "source": [
    "data[\"change\"] = ord_enc.fit_transform(data[[\"index_code\"]])\n",
    "data = data.drop(\"index_code\", axis=1)\n",
    "data.rename(columns = {\"change\":\"index_code\"}, inplace = True)"
   ]
  },
  {
   "cell_type": "code",
   "execution_count": 15,
   "id": "b44eb01e",
   "metadata": {},
   "outputs": [],
   "source": [
    "data[\"change\"] = ord_enc.fit_transform(data[[\"index_name\"]])\n",
    "data = data.drop(\"index_name\", axis=1)\n",
    "data.rename(columns = {\"change\":\"index_name\"}, inplace = True)"
   ]
  },
  {
   "cell_type": "code",
   "execution_count": 16,
   "id": "1eaa31c0",
   "metadata": {},
   "outputs": [],
   "source": [
    "data[\"change\"] = ord_enc.fit_transform(data[[\"index_group_name\"]])\n",
    "data = data.drop(\"index_group_name\", axis=1)\n",
    "data.rename(columns = {\"change\":\"index_group_name\"}, inplace = True)"
   ]
  },
  {
   "cell_type": "code",
   "execution_count": 17,
   "id": "2a167e10",
   "metadata": {},
   "outputs": [],
   "source": [
    "data[\"change\"] = ord_enc.fit_transform(data[[\"section_name\"]])\n",
    "data = data.drop(\"section_name\", axis=1)\n",
    "data.rename(columns = {\"change\":\"section_name\"}, inplace = True)"
   ]
  },
  {
   "cell_type": "code",
   "execution_count": 18,
   "id": "d8633cd3",
   "metadata": {},
   "outputs": [],
   "source": [
    "data[\"change\"] = ord_enc.fit_transform(data[[\"garment_group_name\"]])\n",
    "data = data.drop(\"garment_group_name\", axis=1)\n",
    "data.rename(columns = {\"change\":\"garment_group_name\"}, inplace = True)"
   ]
  },
  {
   "cell_type": "code",
   "execution_count": 19,
   "id": "f1e3d13b",
   "metadata": {},
   "outputs": [],
   "source": [
    "data[\"change\"] = ord_enc.fit_transform(data[[\"detail_desc\"]])\n",
    "data = data.drop(\"detail_desc\", axis=1)\n",
    "data.rename(columns = {\"change\":\"detail_desc\"}, inplace = True)"
   ]
  },
  {
   "cell_type": "code",
   "execution_count": 20,
   "id": "9a2c7a46",
   "metadata": {},
   "outputs": [],
   "source": [
    "data[\"change\"] = ord_enc.fit_transform(data[[\"club_member_status\"]])\n",
    "data = data.drop(\"club_member_status\", axis=1)\n",
    "data.rename(columns = {\"change\":\"club_member_status\"}, inplace = True)"
   ]
  },
  {
   "cell_type": "code",
   "execution_count": 21,
   "id": "4e1ea7e5",
   "metadata": {},
   "outputs": [],
   "source": [
    "data[\"change\"] = ord_enc.fit_transform(data[[\"fashion_news_frequency\"]])\n",
    "data = data.drop(\"fashion_news_frequency\", axis=1)\n",
    "data.rename(columns = {\"change\":\"fashion_news_frequency\"}, inplace = True)"
   ]
  },
  {
   "cell_type": "code",
   "execution_count": 22,
   "id": "7f8f380e",
   "metadata": {},
   "outputs": [],
   "source": [
    "data[\"change\"] = ord_enc.fit_transform(data[[\"postal_code\"]])\n",
    "data = data.drop(\"postal_code\", axis=1)\n",
    "data.rename(columns = {\"change\":\"postal_code\"}, inplace = True)"
   ]
  },
  {
   "cell_type": "code",
   "execution_count": 23,
   "id": "c3623dd0",
   "metadata": {},
   "outputs": [
    {
     "data": {
      "text/plain": [
       "article_id                        int64\n",
       "price                           float64\n",
       "sales_channel_id                  int64\n",
       "sale                              int64\n",
       "product_code                      int64\n",
       "product_type_no                   int64\n",
       "graphical_appearance_no           int64\n",
       "colour_group_code                 int64\n",
       "perceived_colour_value_id         int64\n",
       "perceived_colour_master_id        int64\n",
       "department_no                     int64\n",
       "index_group_no                    int64\n",
       "section_no                        int64\n",
       "garment_group_no                  int64\n",
       "age                             float64\n",
       "customer_id                     float64\n",
       "prod_name                       float64\n",
       "product_type_name               float64\n",
       "product_group_name              float64\n",
       "graphical_appearance_name       float64\n",
       "colour_group_name               float64\n",
       "perceived_colour_value_name     float64\n",
       "perceived_colour_master_name    float64\n",
       "department_name                 float64\n",
       "index_code                      float64\n",
       "index_name                      float64\n",
       "index_group_name                float64\n",
       "section_name                    float64\n",
       "garment_group_name              float64\n",
       "detail_desc                     float64\n",
       "club_member_status              float64\n",
       "fashion_news_frequency          float64\n",
       "postal_code                     float64\n",
       "dtype: object"
      ]
     },
     "execution_count": 23,
     "metadata": {},
     "output_type": "execute_result"
    }
   ],
   "source": [
    "data.dtypes"
   ]
  },
  {
   "cell_type": "code",
   "execution_count": 24,
   "id": "f89839ee",
   "metadata": {},
   "outputs": [],
   "source": [
    "data.to_csv('Final_Datasets_2.csv', index=False)"
   ]
  },
  {
   "cell_type": "code",
   "execution_count": null,
   "id": "6dcc5dfd",
   "metadata": {},
   "outputs": [],
   "source": []
  }
 ],
 "metadata": {
  "kernelspec": {
   "display_name": "Python 3 (ipykernel)",
   "language": "python",
   "name": "python3"
  },
  "language_info": {
   "codemirror_mode": {
    "name": "ipython",
    "version": 3
   },
   "file_extension": ".py",
   "mimetype": "text/x-python",
   "name": "python",
   "nbconvert_exporter": "python",
   "pygments_lexer": "ipython3",
   "version": "3.9.12"
  }
 },
 "nbformat": 4,
 "nbformat_minor": 5
}
